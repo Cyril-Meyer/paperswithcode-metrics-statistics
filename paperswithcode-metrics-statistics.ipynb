{
 "cells": [
  {
   "cell_type": "code",
   "execution_count": null,
   "id": "fa8085d3-2bd9-4b96-a0b4-9205d324667f",
   "metadata": {},
   "outputs": [],
   "source": [
    "import requests\n",
    "import numpy as np\n",
    "import pandas as pd\n",
    "import matplotlib.pyplot as plt\n",
    "import seaborn as sns\n",
    "\n",
    "headers = {'accept': 'application/json'}"
   ]
  },
  {
   "cell_type": "code",
   "execution_count": null,
   "id": "39e0ddc1-a86a-4e19-8aef-373d057da028",
   "metadata": {},
   "outputs": [],
   "source": [
    "# create an array with the selected tasks.\n",
    "tasks = []\n",
    "tasks.append(('semantic-segmentation', 1))\n",
    "tasks.append(('semantic-segmentation', 2))\n",
    "tasks.append(('medical-image-segmentation', 1))\n",
    "tasks.append(('lesion-segmentation', 1))\n",
    "tasks.append(('brain-tumor-segmentation', 1))\n",
    "tasks.append(('cell-segmentation', 1))\n",
    "tasks.append(('retinal-vessel-segmentation', 1))\n",
    "tasks.append(('3d-medical-imaging-segmentation', 1))"
   ]
  },
  {
   "cell_type": "code",
   "execution_count": null,
   "id": "615735c9-0672-474c-b92f-cb15717f97fe",
   "metadata": {},
   "outputs": [],
   "source": [
    "evaluations = []\n",
    "\n",
    "for task, page in tasks:\n",
    "    params = {'page': page}\n",
    "    url = f'https://paperswithcode.com/api/v1/tasks/{task}/evaluations/'\n",
    "    response = requests.get(url, headers=headers, params=params)\n",
    "    \n",
    "    if response.status_code == 200:\n",
    "        results = response.json()['results']\n",
    "        print(task, page, len(results))\n",
    "        for result in results:\n",
    "            evaluations.append(result['id'])\n",
    "    else:\n",
    "        print('err:', response.status_code)\n",
    "\n",
    "print('tasks        :', len(evaluations))\n",
    "print('unique tasks :', len(evaluations))"
   ]
  },
  {
   "cell_type": "code",
   "execution_count": null,
   "id": "6659eaf6-c537-4e6a-9909-e969e49f6f57",
   "metadata": {},
   "outputs": [],
   "source": [
    "metrics = []\n",
    "\n",
    "for evaluation in evaluations:\n",
    "    url = f'https://paperswithcode.com/api/v1/evaluations/{evaluation}/metrics/'\n",
    "    response = requests.get(url, headers=headers)\n",
    "    \n",
    "    if response.status_code == 200:\n",
    "        results = response.json()['results']\n",
    "        metrics.append(results[0]['name'])\n",
    "    else:\n",
    "        print('err:', response.status_code)\n",
    "\n",
    "print('tasks metrics :', len(metrics))"
   ]
  },
  {
   "cell_type": "code",
   "execution_count": null,
   "id": "2ed2125b-5433-48b2-b3d3-de958428330a",
   "metadata": {},
   "outputs": [],
   "source": [
    "def count_metrics(mets):\n",
    "    F1 = 0\n",
    "    IOU = 0\n",
    "    OTHER = 0\n",
    "    for m in mets:\n",
    "        m = m.lower()\n",
    "        if 'dice' in m or 'dsc' in m or 'f1' in m:\n",
    "            F1 += 1\n",
    "        elif 'iou' in m or 'jaccard' in m:\n",
    "            IOU += 1\n",
    "        else:\n",
    "            OTHER += 1\n",
    "    return F1, IOU, OTHER\n",
    "    \n",
    "F1, IOU, OTHER = count_metrics(metrics)\n",
    "F1_SS, IOU_SS, OTHER_SS = count_metrics(metrics[:100])\n",
    "F1_SB, IOU_SB, OTHER_SB = count_metrics(metrics[100:])\n",
    "\n",
    "print('F1   :', F1)\n",
    "print('IOU  :', IOU)\n",
    "print('OTHER:', OTHER)\n",
    "print('F1   :', F1_SS)\n",
    "print('IOU  :', IOU_SS)\n",
    "print('OTHER:', OTHER_SS)\n",
    "print('F1   :', F1_SB)\n",
    "print('IOU  :', IOU_SB)\n",
    "print('OTHER:', OTHER_SB)"
   ]
  },
  {
   "cell_type": "code",
   "execution_count": null,
   "id": "0948ac00-1c19-4b58-9463-bf4860daeeee",
   "metadata": {},
   "outputs": [],
   "source": [
    "data = []\n",
    "data.append((F1    , 'F1-Score',  'Tout'))\n",
    "data.append((F1_SS , 'F1-Score',  'Segmentation Classiques'))\n",
    "data.append((F1_SB , 'F1-Score',  'Segmentation Biomédicale'))\n",
    "data.append((IOU   , 'IoU', 'Tout'))\n",
    "data.append((IOU_SS, 'IoU', 'Segmentation Classiques'))\n",
    "data.append((IOU_SB, 'IoU', 'Segmentation Biomédicale'))\n",
    "data.append((OTHER   , 'Autres', 'Tout'))\n",
    "data.append((OTHER_SS, 'Autres', 'Segmentation Classiques'))\n",
    "data.append((OTHER_SB, 'Autres', 'Segmentation Biomédicale'))\n",
    "\n",
    "df = pd.DataFrame(data, columns=['Nombre d\\'utilisations', 'Métriques', 'Ensembles'])\n",
    "\n",
    "plt.figure(figsize=(18,12))\n",
    "sns.set(font_scale=2.2)\n",
    "g = sns.barplot(data=df, x=\"Ensembles\", y=\"Nombre d\\'utilisations\", hue=\"Métriques\")\n",
    "g.set_xlabel(\"Ensembles\", labelpad=20)\n",
    "g.set_ylabel(\"Count\", labelpad=20)\n",
    "\n",
    "plt.savefig('paperswithcode-metrics-statistics.png')"
   ]
  },
  {
   "cell_type": "code",
   "execution_count": null,
   "id": "a41d2481-a501-4853-97b0-5dbcd7fbacac",
   "metadata": {},
   "outputs": [],
   "source": []
  }
 ],
 "metadata": {
  "kernelspec": {
   "display_name": "py36tf262",
   "language": "python",
   "name": "py36tf262"
  },
  "language_info": {
   "codemirror_mode": {
    "name": "ipython",
    "version": 3
   },
   "file_extension": ".py",
   "mimetype": "text/x-python",
   "name": "python",
   "nbconvert_exporter": "python",
   "pygments_lexer": "ipython3",
   "version": "3.6.9"
  }
 },
 "nbformat": 4,
 "nbformat_minor": 5
}
